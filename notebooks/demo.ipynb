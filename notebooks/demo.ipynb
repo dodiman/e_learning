{
 "cells": [
  {
   "cell_type": "code",
   "execution_count": 16,
   "id": "b99dbe5b",
   "metadata": {},
   "outputs": [],
   "source": [
    "import os\n",
    "import django\n",
    "import sys\n",
    "\n",
    "from django.forms.models import model_to_dict\n",
    "\n",
    "# simpan banyak data\n",
    "import pandas as pd\n",
    "from django.db import transaction\n",
    "\n",
    "sys.path.append(os.path.abspath(\"..\"))\n",
    "\n",
    "os.environ.setdefault(\"DJANGO_SETTINGS_MODULE\", \"django_orm_lab.settings\")\n",
    "\n",
    "django.setup()\n",
    "\n",
    "os.environ[\"DJANGO_ALLOW_ASYNC_UNSAFE\"] = \"true\"\n",
    "\n",
    "\n",
    "from pathlib import Path\n",
    "\n"
   ]
  },
  {
   "cell_type": "code",
   "execution_count": 35,
   "id": "e1604485",
   "metadata": {},
   "outputs": [],
   "source": [
    "from myapp.models import *"
   ]
  },
  {
   "cell_type": "code",
   "execution_count": 19,
   "id": "d3b9ee8a",
   "metadata": {},
   "outputs": [
    {
     "data": {
      "text/plain": [
       "True"
      ]
     },
     "execution_count": 19,
     "metadata": {},
     "output_type": "execute_result"
    }
   ],
   "source": [
    "path_daftar_mahasiswa = Path.cwd() / \"assets/daftar_mahasiswa.xlsx\"\n",
    "path_daftar_mahasiswa.exists()"
   ]
  },
  {
   "cell_type": "code",
   "execution_count": 31,
   "id": "27b589f2",
   "metadata": {},
   "outputs": [
    {
     "data": {
      "application/vnd.microsoft.datawrangler.viewer.v0+json": {
       "columns": [
        {
         "name": "index",
         "rawType": "int64",
         "type": "integer"
        },
        {
         "name": "no_wa",
         "rawType": "object",
         "type": "string"
        }
       ],
       "ref": "83e7e1e5-5ea0-480b-b2ac-b544873279f4",
       "rows": [
        [
         "0",
         "085214055491"
        ],
        [
         "1",
         "082127319472"
        ],
        [
         "2",
         "085396746832"
        ],
        [
         "3",
         "082283078256"
        ],
        [
         "4",
         "082293221300"
        ],
        [
         "5",
         "085399864115"
        ],
        [
         "6",
         "085338845539"
        ],
        [
         "7",
         "081380135324"
        ],
        [
         "8",
         "081311767521"
        ],
        [
         "9",
         "081341516131"
        ],
        [
         "10",
         "082291332380"
        ],
        [
         "11",
         "082324991966"
        ],
        [
         "12",
         "081324264982"
        ],
        [
         "13",
         "082290056463"
        ],
        [
         "14",
         "081342396643"
        ],
        [
         "15",
         "082292568195"
        ],
        [
         "16",
         "085293667134"
        ],
        [
         "17",
         "082290232216"
        ],
        [
         "18",
         "085299381840"
        ],
        [
         "19",
         "082293815230"
        ],
        [
         "20",
         "082288785450"
        ],
        [
         "21",
         "082291263284"
        ],
        [
         "22",
         "085225026775"
        ],
        [
         "23",
         "081244013177"
        ],
        [
         "24",
         "082297702417"
        ],
        [
         "25",
         "085244421610"
        ],
        [
         "26",
         "085240003806"
        ],
        [
         "27",
         "082397128670"
        ],
        [
         "28",
         "085298270581"
        ],
        [
         "29",
         "081216605531"
        ],
        [
         "30",
         "081245020643"
        ],
        [
         "31",
         "085337368273"
        ],
        [
         "32",
         "085332707141"
        ],
        [
         "33",
         "082214487760"
        ],
        [
         "34",
         "085340878487"
        ],
        [
         "35",
         "085226336776"
        ],
        [
         "36",
         "081264645797"
        ],
        [
         "37",
         "082293817870"
        ],
        [
         "38",
         "082151029053"
        ],
        [
         "39",
         "082291046184"
        ],
        [
         "40",
         "082375963284"
        ],
        [
         "41",
         "085348480743"
        ],
        [
         "42",
         "082122756381"
        ],
        [
         "43",
         "082260744018"
        ],
        [
         "44",
         "082211416721"
        ],
        [
         "45",
         "081280305749"
        ],
        [
         "46",
         "082116992117"
        ],
        [
         "47",
         "082218403779"
        ],
        [
         "48",
         "085255969020"
        ],
        [
         "49",
         "085343734136"
        ]
       ],
       "shape": {
        "columns": 1,
        "rows": 165
       }
      },
      "text/plain": [
       "0      085214055491\n",
       "1      082127319472\n",
       "2      085396746832\n",
       "3      082283078256\n",
       "4      082293221300\n",
       "           ...     \n",
       "160    081267906569\n",
       "161    082197831701\n",
       "162    082299272039\n",
       "163    082398800869\n",
       "164    082293814909\n",
       "Name: no_wa, Length: 165, dtype: object"
      ]
     },
     "execution_count": 31,
     "metadata": {},
     "output_type": "execute_result"
    }
   ],
   "source": [
    "df = pd.read_excel(path_daftar_mahasiswa, converters={\"no_wa\": str, \"nim\": str})\n",
    "df.no_wa"
   ]
  },
  {
   "cell_type": "code",
   "execution_count": 49,
   "id": "8eff1aee",
   "metadata": {},
   "outputs": [
    {
     "data": {
      "text/plain": [
       "array(['Membuat Makalah tentang Perangkat Keras'], dtype=object)"
      ]
     },
     "execution_count": 49,
     "metadata": {},
     "output_type": "execute_result"
    }
   ],
   "source": [
    "pd.DataFrame(Tugas.objects.all().values()).judul.to_numpy()"
   ]
  },
  {
   "cell_type": "code",
   "execution_count": 58,
   "id": "bc4ab179",
   "metadata": {},
   "outputs": [],
   "source": [
    "mhs = Mahasiswa.objects.get(nim=\"22650185\")"
   ]
  },
  {
   "cell_type": "code",
   "execution_count": 55,
   "id": "2e38162e",
   "metadata": {},
   "outputs": [
    {
     "data": {
      "text/plain": [
       "328"
      ]
     },
     "execution_count": 55,
     "metadata": {},
     "output_type": "execute_result"
    }
   ],
   "source": [
    "mhs.id"
   ]
  },
  {
   "cell_type": "code",
   "execution_count": 52,
   "id": "710ea2d6",
   "metadata": {},
   "outputs": [],
   "source": [
    "tgs = Tugas.objects.get(id=\"2\")"
   ]
  },
  {
   "cell_type": "code",
   "execution_count": 60,
   "id": "93be3f28",
   "metadata": {},
   "outputs": [
    {
     "data": {
      "text/plain": [
       "<Submission: 22650185 - FIKA ARIANTI - Membuat Makalah tentang Perangkat Keras>"
      ]
     },
     "execution_count": 60,
     "metadata": {},
     "output_type": "execute_result"
    }
   ],
   "source": [
    "Submission.objects.get(mahasiswa=mhs)"
   ]
  },
  {
   "cell_type": "code",
   "execution_count": 19,
   "id": "8a844f10",
   "metadata": {},
   "outputs": [],
   "source": [
    "mhs1 = Mahasiswa.objects.first()\n",
    "mhs1_s = pd.Series(model_to_dict(mhs1))"
   ]
  },
  {
   "cell_type": "code",
   "execution_count": 28,
   "id": "5ce5ae89",
   "metadata": {},
   "outputs": [
    {
     "data": {
      "text/plain": [
       "<QuerySet []>"
      ]
     },
     "execution_count": 28,
     "metadata": {},
     "output_type": "execute_result"
    }
   ],
   "source": [
    "Submission.objects.all()"
   ]
  },
  {
   "cell_type": "code",
   "execution_count": 29,
   "id": "1c8fb475",
   "metadata": {},
   "outputs": [
    {
     "data": {
      "text/plain": [
       "(0, {})"
      ]
     },
     "execution_count": 29,
     "metadata": {},
     "output_type": "execute_result"
    }
   ],
   "source": [
    "Mahasiswa.objects.all().delete()"
   ]
  },
  {
   "cell_type": "code",
   "execution_count": 22,
   "id": "f093550a",
   "metadata": {},
   "outputs": [],
   "source": [
    "pd.DataFrame([mhs1_s]).to_clipboard(index=False)"
   ]
  },
  {
   "cell_type": "code",
   "execution_count": 14,
   "id": "c2041cb1",
   "metadata": {},
   "outputs": [
    {
     "data": {
      "text/plain": [
       "(<django.db.models.fields.BigAutoField: id>,\n",
       " <django.db.models.fields.CharField: nim>,\n",
       " <django.db.models.fields.CharField: nama>,\n",
       " <django.db.models.fields.CharField: jurusan>,\n",
       " <django.db.models.fields.IntegerField: angkatan>,\n",
       " <django.db.models.fields.EmailField: email>)"
      ]
     },
     "execution_count": 14,
     "metadata": {},
     "output_type": "execute_result"
    }
   ],
   "source": [
    "mhs1._meta.fields"
   ]
  },
  {
   "cell_type": "code",
   "execution_count": 10,
   "id": "ff2c552b",
   "metadata": {},
   "outputs": [
    {
     "data": {
      "text/plain": [
       "<Mahasiswa: 23005 - Rudi Hartono>"
      ]
     },
     "execution_count": 10,
     "metadata": {},
     "output_type": "execute_result"
    }
   ],
   "source": [
    "Mahasiswa.objects.create(\n",
    "    nim=\"23005\",\n",
    "    nama=\"Rudi Hartono\",\n",
    "    jurusan=\"Teknik Informatika\",\n",
    "    angkatan=2024\n",
    ")"
   ]
  },
  {
   "cell_type": "code",
   "execution_count": null,
   "id": "1ea38fa3",
   "metadata": {},
   "outputs": [],
   "source": [
    "# simpan banyak\n",
    "def upload_csv(request):\n",
    "    if request.method == \"POST\":\n",
    "        csv_file = request.FILES['file']\n",
    "        df = pd.read_csv(csv_file)\n",
    "\n",
    "        mahasiswa_list = [\n",
    "            Mahasiswa(\n",
    "                nama=row['nama'],\n",
    "                nim=row['nim'],\n",
    "                jurusan=row['jurusan']\n",
    "            )\n",
    "            for _, row in df.iterrows()\n",
    "        ]\n",
    "\n",
    "        with transaction.atomic():\n",
    "            Mahasiswa.objects.bulk_create(mahasiswa_list)\n",
    "\n",
    "        # return render(request, \"upload_success.html\")\n",
    "\n",
    "    # return render(request, \"upload_form.html\")"
   ]
  },
  {
   "cell_type": "code",
   "execution_count": 33,
   "id": "a8c3689a",
   "metadata": {},
   "outputs": [],
   "source": [
    "mahasiswa_list = []\n",
    "mahasiswa_list = [\n",
    "    Mahasiswa(\n",
    "        nim=row['nim'],\n",
    "        nama=row['nama_mahasiswa'],\n",
    "        jurusan=row['jurusan'],\n",
    "        angkatan=row['angkatan'],\n",
    "        no_wa=row['no_wa'],\n",
    "        alamat=row['alamat'],\n",
    "        tempat_lahir=row['tempat_lahir'],\n",
    "        tanggal_lahir=row['tanggal_lahir']\n",
    "    )\n",
    "    for _, row in df.iterrows()\n",
    "]"
   ]
  },
  {
   "cell_type": "code",
   "execution_count": 34,
   "id": "87482427",
   "metadata": {},
   "outputs": [],
   "source": [
    "with transaction.atomic():\n",
    "    Mahasiswa.objects.bulk_create(mahasiswa_list)"
   ]
  },
  {
   "cell_type": "code",
   "execution_count": 27,
   "id": "bc3281eb",
   "metadata": {},
   "outputs": [
    {
     "data": {
      "text/plain": [
       "<QuerySet [<Mahasiswa: 22650133 - SRI SULASTRI>, <Mahasiswa: 22650151 - ALIF RAIHAN>, <Mahasiswa: 22650152 - FAUZAN NURFAJAR. I>, <Mahasiswa: 22650153 - NASTHAB SANIDA.L>, <Mahasiswa: 22650154 - MUH FAISAL RAMA>, <Mahasiswa: 22650155 - IFING NUR KOMALA>, <Mahasiswa: 22650156 - DYAH CHANDRA P>, <Mahasiswa: 22650157 - ASRIATI AWADIA>, <Mahasiswa: 22650158 - WA ODE MUTIARA PINKAN AYU>, <Mahasiswa: 22650159 - NUR FEBRIYANI AMI>, <Mahasiswa: 22650160 - MUHAMAD RIFLAN>, <Mahasiswa: 22650161 - OKI JAYA GUNA>, <Mahasiswa: 22650163 - WA LASTRI>, <Mahasiswa: 22650162 - MIRANDA>, <Mahasiswa: 22650164 - TIARA>, <Mahasiswa: 22650165 - WA NILAM>, <Mahasiswa: 22650166 - JESTIA>, <Mahasiswa: 22650168 - MUHAMMAD ASFAR DANI>, <Mahasiswa: 22650169 - AMELIA NUR AVIVAH>, <Mahasiswa: 22650170 - WA ODE BALQIS SELVIA>, '...(remaining elements truncated)...']>"
      ]
     },
     "execution_count": 27,
     "metadata": {},
     "output_type": "execute_result"
    }
   ],
   "source": [
    "Mahasiswa.objects.all()"
   ]
  },
  {
   "cell_type": "code",
   "execution_count": 28,
   "id": "4d056279",
   "metadata": {},
   "outputs": [
    {
     "data": {
      "application/vnd.microsoft.datawrangler.viewer.v0+json": {
       "columns": [
        {
         "name": "index",
         "rawType": "int64",
         "type": "integer"
        },
        {
         "name": "no_wa",
         "rawType": "int64",
         "type": "integer"
        }
       ],
       "ref": "4bd8bc19-fa81-40b1-bf6b-c1aed7035455",
       "rows": [
        [
         "0",
         "85214055491"
        ],
        [
         "1",
         "82127319472"
        ],
        [
         "2",
         "85396746832"
        ],
        [
         "3",
         "82283078256"
        ],
        [
         "4",
         "82293221300"
        ],
        [
         "5",
         "85399864115"
        ],
        [
         "6",
         "85338845539"
        ],
        [
         "7",
         "81380135324"
        ],
        [
         "8",
         "81311767521"
        ],
        [
         "9",
         "81341516131"
        ],
        [
         "10",
         "82291332380"
        ],
        [
         "11",
         "82324991966"
        ],
        [
         "12",
         "81324264982"
        ],
        [
         "13",
         "82290056463"
        ],
        [
         "14",
         "81342396643"
        ],
        [
         "15",
         "82292568195"
        ],
        [
         "16",
         "85293667134"
        ],
        [
         "17",
         "82290232216"
        ],
        [
         "18",
         "85299381840"
        ],
        [
         "19",
         "82293815230"
        ],
        [
         "20",
         "82288785450"
        ],
        [
         "21",
         "82291263284"
        ],
        [
         "22",
         "85225026775"
        ],
        [
         "23",
         "81244013177"
        ],
        [
         "24",
         "82297702417"
        ],
        [
         "25",
         "85244421610"
        ],
        [
         "26",
         "85240003806"
        ],
        [
         "27",
         "82397128670"
        ],
        [
         "28",
         "85298270581"
        ],
        [
         "29",
         "81216605531"
        ],
        [
         "30",
         "81245020643"
        ],
        [
         "31",
         "85337368273"
        ],
        [
         "32",
         "85332707141"
        ],
        [
         "33",
         "82214487760"
        ],
        [
         "34",
         "85340878487"
        ],
        [
         "35",
         "85226336776"
        ],
        [
         "36",
         "81264645797"
        ],
        [
         "37",
         "82293817870"
        ],
        [
         "38",
         "82151029053"
        ],
        [
         "39",
         "82291046184"
        ],
        [
         "40",
         "82375963284"
        ],
        [
         "41",
         "85348480743"
        ],
        [
         "42",
         "82122756381"
        ],
        [
         "43",
         "82260744018"
        ],
        [
         "44",
         "82211416721"
        ],
        [
         "45",
         "81280305749"
        ],
        [
         "46",
         "82116992117"
        ],
        [
         "47",
         "82218403779"
        ],
        [
         "48",
         "85255969020"
        ],
        [
         "49",
         "85343734136"
        ]
       ],
       "shape": {
        "columns": 1,
        "rows": 165
       }
      },
      "text/plain": [
       "0      85214055491\n",
       "1      82127319472\n",
       "2      85396746832\n",
       "3      82283078256\n",
       "4      82293221300\n",
       "          ...     \n",
       "160    81267906569\n",
       "161    82197831701\n",
       "162    82299272039\n",
       "163    82398800869\n",
       "164    82293814909\n",
       "Name: no_wa, Length: 165, dtype: int64"
      ]
     },
     "execution_count": 28,
     "metadata": {},
     "output_type": "execute_result"
    }
   ],
   "source": [
    "df.no_wa"
   ]
  }
 ],
 "metadata": {
  "kernelspec": {
   "display_name": "globalenv (3.12.2)",
   "language": "python",
   "name": "python3"
  },
  "language_info": {
   "codemirror_mode": {
    "name": "ipython",
    "version": 3
   },
   "file_extension": ".py",
   "mimetype": "text/x-python",
   "name": "python",
   "nbconvert_exporter": "python",
   "pygments_lexer": "ipython3",
   "version": "3.12.2"
  }
 },
 "nbformat": 4,
 "nbformat_minor": 5
}
